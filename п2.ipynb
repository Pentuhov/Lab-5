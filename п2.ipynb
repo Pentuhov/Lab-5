{
 "cells": [
  {
   "cell_type": "code",
   "execution_count": 1,
   "metadata": {},
   "outputs": [],
   "source": [
    "import numpy as np\n",
    "import matplotlib.pyplot as plt"
   ]
  },
  {
   "cell_type": "code",
   "execution_count": 4,
   "metadata": {},
   "outputs": [
    {
     "data": {
      "image/png": "[encoded data removed]",
      "text/plain": [
       "<Figure size 432x288 with 1 Axes>"
      ]
     },
     "metadata": {
      "needs_background": "light"
     },
     "output_type": "display_data"
    }
   ],
   "source": [
    "index = np.arange(5)\n",
    "values1 = [5,7,3,4,6]\n",
    "values2 = [6,6,4,5,7]\n",
    "values3 = [5,6,5,4,6]\n",
    "bw = 0.3\n",
    "plt.axis([0,5,0,8])\n",
    "plt.title('A Multiseries Bar Chart', fontsize=20)\n",
    "plt.bar(index, values1, bw, color='b')\n",
    "plt.bar(index+bw, values2, bw, color='g')\n",
    "plt.bar(index+2*bw, values3, bw, color='r')\n",
    "plt.xticks(index+1.5*bw,['A','B','C','D','E'])\n",
    "plt.show()"
   ]
  },
  {
   "cell_type": "code",
   "execution_count": null,
   "metadata": {},
   "outputs": [],
   "source": []
  }
 ],
 "metadata": {
  "kernelspec": {
   "display_name": "Python 3",
   "language": "python",
   "name": "python3"
  },
  "language_info": {
   "codemirror_mode": {
    "name": "ipython",
    "version": 3
   },
   "file_extension": ".py",
   "mimetype": "text/x-python",
   "name": "python",
   "nbconvert_exporter": "python",
   "pygments_lexer": "ipython3",
   "version": "3.8.5"
  }
 },
 "nbformat": 4,
 "nbformat_minor": 4
}
